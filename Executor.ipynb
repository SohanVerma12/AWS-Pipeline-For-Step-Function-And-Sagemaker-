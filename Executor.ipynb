{
 "cells": [
  {
   "cell_type": "code",
   "execution_count": null,
   "id": "6f097ae8-191c-4f58-86f0-353728a9bf55",
   "metadata": {
    "tags": []
   },
   "outputs": [],
   "source": [
    "processing_repository_uri = '749987175933.dkr.ecr.ap-south-1.amazonaws.com/sample_container'\n",
    "print(processing_repository_uri)"
   ]
  },
  {
   "cell_type": "code",
   "execution_count": 18,
   "id": "c07e6bce",
   "metadata": {},
   "outputs": [
    {
     "name": "stdout",
     "output_type": "stream",
     "text": [
      "Sending build context to Docker daemon  12.29kB\n",
      "Step 1/18 : from python:3.9\n",
      " ---> cada33548249\n",
      "Step 2/18 : RUN pip3 install --upgrade setuptools pip\n",
      " ---> Using cache\n",
      " ---> 30996bdc542a\n",
      "Step 3/18 : RUN pip3 install nltk\n",
      " ---> Using cache\n",
      " ---> b47a90c2f9b9\n",
      "Step 4/18 : RUN pip3 install numpy\n",
      " ---> Using cache\n",
      " ---> 27d63cc8dcc2\n",
      "Step 5/18 : RUN pip3 install pandas\n",
      " ---> Using cache\n",
      " ---> c5ade6f18bbc\n",
      "Step 6/18 : RUN pip3 install boto3\n",
      " ---> Using cache\n",
      " ---> e7368ea93c89\n",
      "Step 7/18 : RUN pip3 install fsspec\n",
      " ---> Using cache\n",
      " ---> 3e57751d57ec\n",
      "Step 8/18 : RUN pip3 install aiobotocore\n",
      " ---> Using cache\n",
      " ---> 00a58cd7070e\n",
      "Step 9/18 : RUN pip3 install aiohttp\n",
      " ---> Using cache\n",
      " ---> bc3ea13eab5d\n",
      "Step 10/18 : RUN pip3 install aioitertools\n",
      " ---> Using cache\n",
      " ---> f38383323893\n",
      "Step 11/18 : RUN pip3 install botocore\n",
      " ---> Using cache\n",
      " ---> 3a5105d9e731\n",
      "Step 12/18 : RUN pip3 install pandasql\n",
      " ---> Using cache\n",
      " ---> e9aa17350404\n",
      "Step 13/18 : RUN pip3 install s3fs\n",
      " ---> Using cache\n",
      " ---> a61fc2087350\n",
      "Step 14/18 : RUN pip3 install sqlalchemy\n",
      " ---> Using cache\n",
      " ---> b2c02e420727\n",
      "Step 15/18 : RUN pip3 install wrapt\n",
      " ---> Using cache\n",
      " ---> ede148ab7652\n",
      "Step 16/18 : env PYTHONUNBUFFERED=TRUE\n",
      " ---> Using cache\n",
      " ---> ce2cf4755d76\n",
      "Step 17/18 : WORKDIR project\n",
      " ---> Using cache\n",
      " ---> 721204602669\n",
      "Step 18/18 : ENTRYPOINT [\"python3\",\"project/code.py\"]\n",
      " ---> Using cache\n",
      " ---> be251fedc99c\n",
      "Successfully built be251fedc99c\n"
     ]
    }
   ],
   "source": [
    "!docker build ."
   ]
  },
  {
   "cell_type": "code",
   "execution_count": null,
   "id": "39371bdb",
   "metadata": {},
   "outputs": [],
   "source": [
    "!aws ecr get-login-password --region {region} | docker login --username AWS --password-stdin {account_id}.dkr.ecr.{region}.amazonaws.com\n",
    "!docker tag be251fedc99c $processing_repository_uri\n",
    "!docker push $processing_repository_uri"
   ]
  },
  {
   "cell_type": "code",
   "execution_count": null,
   "id": "62f0055b-0caf-45de-8bed-3d6d7843fcfd",
   "metadata": {},
   "outputs": [],
   "source": []
  }
 ],
 "metadata": {
  "kernelspec": {
   "display_name": "conda_python3",
   "language": "python",
   "name": "conda_python3"
  },
  "language_info": {
   "codemirror_mode": {
    "name": "ipython",
    "version": 3
   },
   "file_extension": ".py",
   "mimetype": "text/x-python",
   "name": "python",
   "nbconvert_exporter": "python",
   "pygments_lexer": "ipython3",
   "version": "3.10.8"
  }
 },
 "nbformat": 4,
 "nbformat_minor": 5
}
